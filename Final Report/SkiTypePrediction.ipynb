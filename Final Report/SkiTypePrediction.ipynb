{
 "cells": [
  {
   "cell_type": "markdown",
   "id": "509e96e6-6e85-4b47-baea-8a1b7d5d66ff",
   "metadata": {},
   "source": [
    "## Ski Type Prediction Using the Fourier Transform"
   ]
  },
  {
   "cell_type": "markdown",
   "id": "0d0f516d-bce6-41aa-8379-bff04f30e699",
   "metadata": {},
   "source": [
    "#### Joachim Mjelde"
   ]
  },
  {
   "cell_type": "markdown",
   "id": "2f6e628c-5bda-4f66-8925-6e1482a59d80",
   "metadata": {},
   "source": [
    "#### Abstract"
   ]
  },
  {
   "cell_type": "markdown",
   "id": "ca201292-409d-4b17-b625-de5b4180d5aa",
   "metadata": {},
   "source": [
    "To fully utilize the features of my self-developed iOS ski-tracking app SkiForce (Mjelde, 2023), the app needs to know which type of ski the user is using. By using the onboard accelerometer of iPhones, I have collected real-world accelerometer data while skiing. I have used the Fourier Transform to convert the data from the time domain to the frequency domain and built a machine learning model predicting whether the user skied on a Giant Slalom ski or a Slalom ski. I used logistic regression to build the model, which achieved a high level of accuracy. Due to the limited size of the dataset, despite the good performance of the model, it is unclear how a model trained on more diverse data would perform. Further exploration would be needed for a definite conclusion. \n"
   ]
  },
  {
   "cell_type": "markdown",
   "id": "14c15009-8ed8-4ee6-8a22-1f455cc20b0a",
   "metadata": {},
   "source": [
    "#### Introduction"
   ]
  },
  {
   "cell_type": "markdown",
   "id": "84ed5344-87e2-4312-958f-420c0788fb23",
   "metadata": {},
   "source": [
    "Through my Computer Science Capstone, I have developed an iOS app utilizing the GPS and accelerometer of the iPhone to track your skiing. The app displays metrics related to GPS, including average and maximum speed achieved, metrics about altitude and vertical descent as well as displaying a map of where you skied. Similar apps have been developed earlier, but what sets SkiForce apart from other ski-tracking apps, is its ability to utilize the accelerometer on the phone to display metrics. This includes\n",
    "\n",
    "1. Max and average g-force\n",
    "2. Number of jumps you went over \n",
    "3. Accumulative time in air \n",
    "4. Number of turns \n",
    "5. Type of ski used\n",
    "\n",
    "The last two are closely connected. By knowing which ski type was used, the app tweaks the parameters of the algorithm that counts how many turns the user did in order to give a more accurate number. While the user can input this information themselves, having a model classifying this in the background makes for a better user experience. For this, I built a machine learning model that uses accelerometer data as input. Before the data is fed into the model, it is transformed using the Fourier Transform. Using the transformed data the model outputs whether the user used a Giant Slalom ski or a Slalom ski. "
   ]
  },
  {
   "cell_type": "markdown",
   "id": "96bacb5a-6ab4-4b34-826e-be2f4e3e2302",
   "metadata": {},
   "source": [
    "#### Methods"
   ]
  },
  {
   "cell_type": "markdown",
   "id": "5b812511-bfed-4d7e-bf72-16c52b082dc5",
   "metadata": {},
   "source": [
    "Data was collected over the course of the winter through the use of the accelerometer on my phone. I started recording at the top of the hill, placed my phone inside my speed suit, skied normally from top to bottom, and stopped recording. I used two different ski types when collecting data, Slalom and Giant Slalom. The main difference between the two skis is how quickly they turn. A Slalom ski has a radius of 13 meters and a Giant Slalom ski has a radius of 30 meters, meaning a slalom ski turns quicker than a Giant Slalom ski. Each run was saved locally on my phone with a note explaining which ski type I used. The accelerometer collected data 10 times a second. The data was imported into my computer after each day of skiing. All data was split into chunks of 20-second recordings (200 accelerometer inputs). All data can be found in data.csv. "
   ]
  },
  {
   "cell_type": "code",
   "execution_count": 2,
   "id": "b37313b7-7b23-4790-81e3-a3db1f4667e4",
   "metadata": {},
   "outputs": [
    {
     "name": "stderr",
     "output_type": "stream",
     "text": [
      "/Users/joachimmjelde/opt/anaconda3/lib/python3.9/site-packages/scipy/__init__.py:146: UserWarning: A NumPy version >=1.16.5 and <1.23.0 is required for this version of SciPy (detected version 1.24.2\n",
      "  warnings.warn(f\"A NumPy version >={np_minversion} and <{np_maxversion}\"\n"
     ]
    }
   ],
   "source": [
    "# All necessary imports \n",
    "from sklearn.model_selection import train_test_split\n",
    "from sklearn.model_selection import LeaveOneOut\n",
    "from sklearn.model_selection import cross_val_predict\n",
    "from sklearn.linear_model import LogisticRegression\n",
    "from numpy import mean\n",
    "from numpy import absolute\n",
    "from numpy import sqrt\n",
    "import pandas as pd \n",
    "from sklearn.metrics import precision_score, recall_score, accuracy_score\n",
    "from sklearn.metrics import confusion_matrix, mean_squared_error\n",
    "import numpy as np\n",
    "from matplotlib import pyplot as plt\n",
    "from scipy.fft import fft, fftfreq\n",
    "from sklearn.metrics import roc_curve, auc"
   ]
  },
  {
   "cell_type": "code",
   "execution_count": 15,
   "id": "78e37827-9503-466a-81a9-6be05faeabce",
   "metadata": {},
   "outputs": [
    {
     "data": {
      "text/html": [
       "<div>\n",
       "<style scoped>\n",
       "    .dataframe tbody tr th:only-of-type {\n",
       "        vertical-align: middle;\n",
       "    }\n",
       "\n",
       "    .dataframe tbody tr th {\n",
       "        vertical-align: top;\n",
       "    }\n",
       "\n",
       "    .dataframe thead th {\n",
       "        text-align: right;\n",
       "    }\n",
       "</style>\n",
       "<table border=\"1\" class=\"dataframe\">\n",
       "  <thead>\n",
       "    <tr style=\"text-align: right;\">\n",
       "      <th></th>\n",
       "      <th>0</th>\n",
       "      <th>1</th>\n",
       "      <th>2</th>\n",
       "      <th>3</th>\n",
       "      <th>4</th>\n",
       "      <th>5</th>\n",
       "      <th>6</th>\n",
       "      <th>7</th>\n",
       "      <th>8</th>\n",
       "      <th>9</th>\n",
       "      <th>...</th>\n",
       "      <th>191</th>\n",
       "      <th>192</th>\n",
       "      <th>193</th>\n",
       "      <th>194</th>\n",
       "      <th>195</th>\n",
       "      <th>196</th>\n",
       "      <th>197</th>\n",
       "      <th>198</th>\n",
       "      <th>199</th>\n",
       "      <th>target</th>\n",
       "    </tr>\n",
       "  </thead>\n",
       "  <tbody>\n",
       "    <tr>\n",
       "      <th>0</th>\n",
       "      <td>0.701767</td>\n",
       "      <td>0.505814</td>\n",
       "      <td>0.440445</td>\n",
       "      <td>0.525818</td>\n",
       "      <td>0.319962</td>\n",
       "      <td>0.195663</td>\n",
       "      <td>0.115616</td>\n",
       "      <td>0.041290</td>\n",
       "      <td>0.101349</td>\n",
       "      <td>-0.335876</td>\n",
       "      <td>...</td>\n",
       "      <td>-0.240219</td>\n",
       "      <td>-0.123932</td>\n",
       "      <td>-0.244705</td>\n",
       "      <td>-0.539917</td>\n",
       "      <td>-0.174026</td>\n",
       "      <td>-0.217896</td>\n",
       "      <td>-0.115601</td>\n",
       "      <td>-0.649353</td>\n",
       "      <td>-0.289261</td>\n",
       "      <td>gs</td>\n",
       "    </tr>\n",
       "    <tr>\n",
       "      <th>1</th>\n",
       "      <td>-0.558167</td>\n",
       "      <td>-0.109161</td>\n",
       "      <td>-0.221664</td>\n",
       "      <td>-0.229507</td>\n",
       "      <td>-0.071259</td>\n",
       "      <td>-0.151672</td>\n",
       "      <td>-0.041656</td>\n",
       "      <td>-0.000793</td>\n",
       "      <td>0.373825</td>\n",
       "      <td>0.240067</td>\n",
       "      <td>...</td>\n",
       "      <td>0.106308</td>\n",
       "      <td>0.221451</td>\n",
       "      <td>0.067276</td>\n",
       "      <td>0.432846</td>\n",
       "      <td>0.445923</td>\n",
       "      <td>0.356873</td>\n",
       "      <td>0.615189</td>\n",
       "      <td>0.150238</td>\n",
       "      <td>0.289963</td>\n",
       "      <td>gs</td>\n",
       "    </tr>\n",
       "    <tr>\n",
       "      <th>2</th>\n",
       "      <td>-0.023712</td>\n",
       "      <td>0.213577</td>\n",
       "      <td>-0.035248</td>\n",
       "      <td>0.086945</td>\n",
       "      <td>0.123413</td>\n",
       "      <td>0.589233</td>\n",
       "      <td>-0.140991</td>\n",
       "      <td>0.875198</td>\n",
       "      <td>0.146667</td>\n",
       "      <td>0.748978</td>\n",
       "      <td>...</td>\n",
       "      <td>0.101013</td>\n",
       "      <td>0.429321</td>\n",
       "      <td>0.059265</td>\n",
       "      <td>-0.068497</td>\n",
       "      <td>0.216064</td>\n",
       "      <td>0.391800</td>\n",
       "      <td>-0.125595</td>\n",
       "      <td>-0.128265</td>\n",
       "      <td>0.204514</td>\n",
       "      <td>gs</td>\n",
       "    </tr>\n",
       "    <tr>\n",
       "      <th>3</th>\n",
       "      <td>0.587753</td>\n",
       "      <td>0.549484</td>\n",
       "      <td>0.625244</td>\n",
       "      <td>0.450912</td>\n",
       "      <td>0.716599</td>\n",
       "      <td>0.627670</td>\n",
       "      <td>0.733093</td>\n",
       "      <td>1.008331</td>\n",
       "      <td>0.682587</td>\n",
       "      <td>0.454895</td>\n",
       "      <td>...</td>\n",
       "      <td>-0.008926</td>\n",
       "      <td>0.111771</td>\n",
       "      <td>0.234238</td>\n",
       "      <td>-0.143051</td>\n",
       "      <td>0.044220</td>\n",
       "      <td>-0.172501</td>\n",
       "      <td>-0.124939</td>\n",
       "      <td>0.078323</td>\n",
       "      <td>0.164139</td>\n",
       "      <td>gs</td>\n",
       "    </tr>\n",
       "    <tr>\n",
       "      <th>4</th>\n",
       "      <td>0.075699</td>\n",
       "      <td>-0.148056</td>\n",
       "      <td>-0.313751</td>\n",
       "      <td>-0.209122</td>\n",
       "      <td>-0.091049</td>\n",
       "      <td>-0.188263</td>\n",
       "      <td>0.143250</td>\n",
       "      <td>0.211700</td>\n",
       "      <td>0.303970</td>\n",
       "      <td>0.186951</td>\n",
       "      <td>...</td>\n",
       "      <td>0.690155</td>\n",
       "      <td>0.331863</td>\n",
       "      <td>0.264297</td>\n",
       "      <td>0.341690</td>\n",
       "      <td>0.195831</td>\n",
       "      <td>0.226669</td>\n",
       "      <td>0.121368</td>\n",
       "      <td>0.055099</td>\n",
       "      <td>0.517136</td>\n",
       "      <td>gs</td>\n",
       "    </tr>\n",
       "  </tbody>\n",
       "</table>\n",
       "<p>5 rows × 201 columns</p>\n",
       "</div>"
      ],
      "text/plain": [
       "          0         1         2         3         4         5         6  \\\n",
       "0  0.701767  0.505814  0.440445  0.525818  0.319962  0.195663  0.115616   \n",
       "1 -0.558167 -0.109161 -0.221664 -0.229507 -0.071259 -0.151672 -0.041656   \n",
       "2 -0.023712  0.213577 -0.035248  0.086945  0.123413  0.589233 -0.140991   \n",
       "3  0.587753  0.549484  0.625244  0.450912  0.716599  0.627670  0.733093   \n",
       "4  0.075699 -0.148056 -0.313751 -0.209122 -0.091049 -0.188263  0.143250   \n",
       "\n",
       "          7         8         9  ...       191       192       193       194  \\\n",
       "0  0.041290  0.101349 -0.335876  ... -0.240219 -0.123932 -0.244705 -0.539917   \n",
       "1 -0.000793  0.373825  0.240067  ...  0.106308  0.221451  0.067276  0.432846   \n",
       "2  0.875198  0.146667  0.748978  ...  0.101013  0.429321  0.059265 -0.068497   \n",
       "3  1.008331  0.682587  0.454895  ... -0.008926  0.111771  0.234238 -0.143051   \n",
       "4  0.211700  0.303970  0.186951  ...  0.690155  0.331863  0.264297  0.341690   \n",
       "\n",
       "        195       196       197       198       199  target  \n",
       "0 -0.174026 -0.217896 -0.115601 -0.649353 -0.289261      gs  \n",
       "1  0.445923  0.356873  0.615189  0.150238  0.289963      gs  \n",
       "2  0.216064  0.391800 -0.125595 -0.128265  0.204514      gs  \n",
       "3  0.044220 -0.172501 -0.124939  0.078323  0.164139      gs  \n",
       "4  0.195831  0.226669  0.121368  0.055099  0.517136      gs  \n",
       "\n",
       "[5 rows x 201 columns]"
      ]
     },
     "execution_count": 15,
     "metadata": {},
     "output_type": "execute_result"
    }
   ],
   "source": [
    "# import data\n",
    "data = pd.read_csv(\"data.csv\")\n",
    "data.head()"
   ]
  },
  {
   "cell_type": "code",
   "execution_count": 17,
   "id": "2b6e84c5-5adb-41f6-b21e-0900b1068341",
   "metadata": {},
   "outputs": [
    {
     "data": {
      "text/plain": [
       "(36, 201)"
      ]
     },
     "execution_count": 17,
     "metadata": {},
     "output_type": "execute_result"
    }
   ],
   "source": [
    "# Shape of the data\n",
    "data.shape"
   ]
  },
  {
   "cell_type": "markdown",
   "id": "6ff69590-b444-48fd-a1c1-a5b11a8c708b",
   "metadata": {},
   "source": [
    "The data consists of 24 runs of Giant Slalom and 12 runs of Slalom, equalling 36 rows. The 200 first columns are accelerometer inputs, the final column is the target. \n",
    "\n",
    "From here we convert the data from the time domain to the frequency domain using the Fourier Transform. "
   ]
  },
  {
   "cell_type": "code",
   "execution_count": 12,
   "id": "85830356-252a-4d3a-b35e-7fdaf03caad7",
   "metadata": {},
   "outputs": [],
   "source": [
    "# Transform data using Fourier Transform\n",
    "# Returns dataframe of transformed data with targets\n",
    "\n",
    "def transform_data(data):\n",
    "    transformed_data = []\n",
    "    targets = []\n",
    "    for index in range(len(data)):\n",
    "        row = data.iloc[index]\n",
    "        targets.append(row[-1])\n",
    "        transformed_data.append(np.abs(fft(row[:200])))\n",
    "    transformed_data = pd.DataFrame(transformed_data)\n",
    "    transformed_data['target'] = targets\n",
    "    return transformed_data, targets"
   ]
  },
  {
   "cell_type": "code",
   "execution_count": 13,
   "id": "3c43e1c7-7c71-4495-9c1f-be5adc30da70",
   "metadata": {},
   "outputs": [],
   "source": [
    "# data ready for model\n",
    "\n",
    "transformed_data, targets = transform_data(data)"
   ]
  },
  {
   "cell_type": "markdown",
   "id": "575f64da-f6f5-4b51-97b2-6dc42edf0ebb",
   "metadata": {},
   "source": [
    "Data is transformed. A variety of models were tested and logistic regression performed the best. Due to the small size of the dataset, I used Leave-One-Out Cross Validation to test the model. "
   ]
  },
  {
   "cell_type": "code",
   "execution_count": 16,
   "id": "54611870-d388-40b4-8eb5-ddccd88ab5dd",
   "metadata": {},
   "outputs": [
    {
     "name": "stderr",
     "output_type": "stream",
     "text": [
      "/Users/joachimmjelde/opt/anaconda3/lib/python3.9/site-packages/scipy/__init__.py:146: UserWarning: A NumPy version >=1.16.5 and <1.23.0 is required for this version of SciPy (detected version 1.24.2\n",
      "  warnings.warn(f\"A NumPy version >={np_minversion} and <{np_maxversion}\"\n",
      "/Users/joachimmjelde/opt/anaconda3/lib/python3.9/site-packages/scipy/__init__.py:146: UserWarning: A NumPy version >=1.16.5 and <1.23.0 is required for this version of SciPy (detected version 1.24.2\n",
      "  warnings.warn(f\"A NumPy version >={np_minversion} and <{np_maxversion}\"\n",
      "/Users/joachimmjelde/opt/anaconda3/lib/python3.9/site-packages/scipy/__init__.py:146: UserWarning: A NumPy version >=1.16.5 and <1.23.0 is required for this version of SciPy (detected version 1.24.2\n",
      "  warnings.warn(f\"A NumPy version >={np_minversion} and <{np_maxversion}\"\n",
      "/Users/joachimmjelde/opt/anaconda3/lib/python3.9/site-packages/scipy/__init__.py:146: UserWarning: A NumPy version >=1.16.5 and <1.23.0 is required for this version of SciPy (detected version 1.24.2\n",
      "  warnings.warn(f\"A NumPy version >={np_minversion} and <{np_maxversion}\"\n",
      "/Users/joachimmjelde/opt/anaconda3/lib/python3.9/site-packages/scipy/__init__.py:146: UserWarning: A NumPy version >=1.16.5 and <1.23.0 is required for this version of SciPy (detected version 1.24.2\n",
      "  warnings.warn(f\"A NumPy version >={np_minversion} and <{np_maxversion}\"\n",
      "/Users/joachimmjelde/opt/anaconda3/lib/python3.9/site-packages/scipy/__init__.py:146: UserWarning: A NumPy version >=1.16.5 and <1.23.0 is required for this version of SciPy (detected version 1.24.2\n",
      "  warnings.warn(f\"A NumPy version >={np_minversion} and <{np_maxversion}\"\n",
      "/Users/joachimmjelde/opt/anaconda3/lib/python3.9/site-packages/scipy/__init__.py:146: UserWarning: A NumPy version >=1.16.5 and <1.23.0 is required for this version of SciPy (detected version 1.24.2\n",
      "  warnings.warn(f\"A NumPy version >={np_minversion} and <{np_maxversion}\"\n",
      "/Users/joachimmjelde/opt/anaconda3/lib/python3.9/site-packages/scipy/__init__.py:146: UserWarning: A NumPy version >=1.16.5 and <1.23.0 is required for this version of SciPy (detected version 1.24.2\n",
      "  warnings.warn(f\"A NumPy version >={np_minversion} and <{np_maxversion}\"\n"
     ]
    },
    {
     "data": {
      "text/plain": [
       "array(['gs', 'gs', 'sl', 'gs', 'gs', 'gs', 'gs', 'gs', 'gs', 'gs', 'gs',\n",
       "       'gs', 'gs', 'gs', 'gs', 'gs', 'gs', 'gs', 'gs', 'gs', 'gs', 'gs',\n",
       "       'gs', 'gs', 'gs', 'sl', 'sl', 'sl', 'sl', 'gs', 'sl', 'sl', 'sl',\n",
       "       'sl', 'sl', 'sl'], dtype=object)"
      ]
     },
     "execution_count": 16,
     "metadata": {},
     "output_type": "execute_result"
    }
   ],
   "source": [
    "# Leave-One-Out Cross Validation\n",
    "\n",
    "X = transformed_data.drop('target', axis=1)\n",
    "y = transformed_data['target']\n",
    "\n",
    "cv = LeaveOneOut()\n",
    "model = LogisticRegression()\n",
    "pred =  cross_val_predict(model, X, y,\n",
    "                         cv=cv, n_jobs=-1)\n",
    "pred"
   ]
  },
  {
   "cell_type": "markdown",
   "id": "b91bbe0e-1478-4eb7-8aae-4fce651d6502",
   "metadata": {},
   "source": [
    "Predictions made by the model."
   ]
  },
  {
   "cell_type": "markdown",
   "id": "71e07b08-067c-42aa-b809-ae4d82dfc734",
   "metadata": {},
   "source": [
    "#### Results"
   ]
  },
  {
   "cell_type": "code",
   "execution_count": 8,
   "id": "193eb284-fbcd-4a2c-9904-b4ce34fbadc4",
   "metadata": {},
   "outputs": [
    {
     "data": {
      "text/plain": [
       "array([[23,  1],\n",
       "       [ 2, 10]])"
      ]
     },
     "execution_count": 8,
     "metadata": {},
     "output_type": "execute_result"
    }
   ],
   "source": [
    "# Confusion Matrix\n",
    "confusion_matrix(y, pred)"
   ]
  },
  {
   "cell_type": "code",
   "execution_count": 9,
   "id": "453d7622-65ce-45f4-951d-fed7d3376ec1",
   "metadata": {},
   "outputs": [
    {
     "data": {
      "text/plain": [
       "0.9166666666666666"
      ]
     },
     "execution_count": 9,
     "metadata": {},
     "output_type": "execute_result"
    }
   ],
   "source": [
    "# Accuracy score\n",
    "accuracy_score(y, pred)"
   ]
  },
  {
   "cell_type": "markdown",
   "id": "a755e40d-440a-4846-86c6-acad977b1462",
   "metadata": {},
   "source": [
    "Accuracy score of 91.67%."
   ]
  },
  {
   "cell_type": "code",
   "execution_count": 14,
   "id": "038fbe2e-ebdd-42b7-ba57-cce3f02776bb",
   "metadata": {},
   "outputs": [
    {
     "data": {
      "image/png": "[encoded data removed]",
      "text/plain": [
       "<Figure size 432x288 with 1 Axes>"
      ]
     },
     "metadata": {
      "needs_background": "light"
     },
     "output_type": "display_data"
    }
   ],
   "source": [
    "# ROC curve\n",
    "\n",
    "pred_transformed = []\n",
    "real_targets_transformed = []\n",
    "for i in range(len(pred)):\n",
    "    if pred[i] == 'sl':\n",
    "        pred_transformed.append(0)\n",
    "    else:\n",
    "        pred_transformed.append(1)\n",
    "        \n",
    "    if targets[i] == 'sl':\n",
    "        real_targets_transformed.append(0)\n",
    "    else:\n",
    "        real_targets_transformed.append(1)\n",
    "\n",
    "fpr, tpr, thresholds = roc_curve(real_targets_transformed, pred_transformed, pos_label = 1)\n",
    "roc_auc = auc(fpr, tpr)\n",
    "\n",
    "# plot the ROC curve\n",
    "plt.plot(fpr, tpr, color='darkorange', label='ROC curve (area = %0.2f)' % roc_auc)\n",
    "plt.plot([0, 1], [0, 1], color='navy', linestyle='--')\n",
    "plt.xlim([0.0, 1.0])\n",
    "plt.ylim([0.0, 1.05])\n",
    "plt.xlabel('False Positive Rate')\n",
    "plt.ylabel('True Positive Rate')\n",
    "plt.title('Receiver Operating Characteristic (ROC) Curve')\n",
    "plt.legend(loc=\"lower right\")\n",
    "plt.show()"
   ]
  },
  {
   "cell_type": "markdown",
   "id": "3907a9da-900f-4654-b4c3-f5dde2503a0d",
   "metadata": {},
   "source": [
    "ROC Curve showing the tradeoff between the true positive rate and the false positive rate. AUC value is 0.90. "
   ]
  },
  {
   "cell_type": "markdown",
   "id": "1285e07a-863c-48f5-98b8-cb7a2c44eca4",
   "metadata": {},
   "source": [
    "#### Discussion/Conclusion"
   ]
  },
  {
   "cell_type": "markdown",
   "id": "dd4d0008-c056-4093-b448-02fdf8581479",
   "metadata": {},
   "source": [
    "The results show the model achieved a high level of accuracy, correctly classifying the ski types 91.67% of the time. Furthermore, the AUC value of 90% suggests that the model had a good overall performance in distinguishing between the two types. \n",
    "\n",
    "Even though the performance of the model is promising, there are some limitations that are worth noting. Firstly, the model is trained on a very limited dataset. With such a limited dataset, the full range of variability in unseen data the model could be exposed to has not been captured in the training data. This could heavily affect the performance of the model. Secondly, all the data was collected by me. Skiing is an individual sport meaning there are countless factors deciding how the data would look for different people. Their technique, height, weight, age, the stiffness of their ski, the stiffness of their boot, and how sharp their edges all decide how the accelerometer data of a turn would look. Capturing this variety would be close to impossible and beyond the scope of this project. Despite the model performing well on data collected by me, the model's performance could vary significantly if it were exposed to data collected by other people. Thirdly, the data was collected on mostly one type of snow. Since skiing is an outdoor sport, the snow conditions could vary greatly. The ski reacts very differently to powder compared to artificial snow, which would also change how the data looks. I did most of my data collection on newly groomed, soft snow in Park City, Utah. While the model performs well on this type of snow, it is uncertain it would perform as well if exposed to data collected on other snow conditions. \n",
    "\n",
    "In terms of further exploration, changing the model from a binary classifier to a multiclass classifier would open up the use case to a wider audience. As of now, the model caters mostly to ski racers or people that own racing skis. Making it a multiclass classifier it would be possible to add classes for skis that a hobby skier would use. How well this model would perform is unclear as the difference between the classes would narrow significantly. As of now, the difference in radius between the two ski types is 17 meters. If a new class with a 23 meter radius ski was added, the difference between the data would not be as large, potentially leading to a worse model. \n",
    "\n",
    "In conclusion, given the model's good performance, it can function as a proof of concept for similar models being built in the future. Large amounts of data collected over the course of an entire winter by a variety of people on all types of snow conditions would be needed to build a proper model. Having collected all the necessary data and trained a model on that data, it is still unclear how well that model would perform due to the wide variety of factors that can affect the data. Future exploration would be needed to verify the usefulness of such a model."
   ]
  },
  {
   "cell_type": "markdown",
   "id": "7a743e47-0fbf-4265-96c8-fc2f45d42c7c",
   "metadata": {},
   "source": [
    "### Citations"
   ]
  },
  {
   "cell_type": "markdown",
   "id": "c60a426c-e90d-424b-931c-661125494d4d",
   "metadata": {},
   "source": [
    "1. Mjelde, J.(2023). SKiForce. Retrieved from https://github.com/jmjelde1/SkiForce"
   ]
  }
 ],
 "metadata": {
  "kernelspec": {
   "display_name": "Python 3 (ipykernel)",
   "language": "python",
   "name": "python3"
  },
  "language_info": {
   "codemirror_mode": {
    "name": "ipython",
    "version": 3
   },
   "file_extension": ".py",
   "mimetype": "text/x-python",
   "name": "python",
   "nbconvert_exporter": "python",
   "pygments_lexer": "ipython3",
   "version": "3.9.7"
  }
 },
 "nbformat": 4,
 "nbformat_minor": 5
}
